{
 "cells": [
  {
   "cell_type": "markdown",
   "id": "2b072f44",
   "metadata": {},
   "source": [
    "## Imports"
   ]
  },
  {
   "cell_type": "code",
   "execution_count": 1,
   "id": "0d69f20e",
   "metadata": {},
   "outputs": [],
   "source": [
    "import pandas as pd\n",
    "import re"
   ]
  },
  {
   "cell_type": "code",
   "execution_count": 2,
   "id": "111ea14c",
   "metadata": {},
   "outputs": [],
   "source": [
    "fn = '../data/sama_tweets_2.csv'"
   ]
  },
  {
   "cell_type": "code",
   "execution_count": 3,
   "id": "d3ef67be",
   "metadata": {},
   "outputs": [
    {
     "name": "stderr",
     "output_type": "stream",
     "text": [
      "/opt/miniconda3/envs/hercule/lib/python3.7/site-packages/pandas/util/_decorators.py:311: ParserWarning: Falling back to the 'python' engine because the 'c' engine does not support regex separators (separators > 1 char and different from '\\s+' are interpreted as regex); you can avoid this warning by specifying engine='python'.\n",
      "  return func(*args, **kwargs)\n"
     ]
    }
   ],
   "source": [
    "tweets_df = pd.read_csv(fn, sep=';@;')  "
   ]
  },
  {
   "cell_type": "code",
   "execution_count": 4,
   "id": "15f55610",
   "metadata": {},
   "outputs": [
    {
     "data": {
      "text/plain": [
       "(225, 9)"
      ]
     },
     "execution_count": 4,
     "metadata": {},
     "output_type": "execute_result"
    }
   ],
   "source": [
    "tweets_df.shape"
   ]
  },
  {
   "cell_type": "code",
   "execution_count": 5,
   "id": "c0e2678a",
   "metadata": {},
   "outputs": [
    {
     "data": {
      "text/html": [
       "<div>\n",
       "<style scoped>\n",
       "    .dataframe tbody tr th:only-of-type {\n",
       "        vertical-align: middle;\n",
       "    }\n",
       "\n",
       "    .dataframe tbody tr th {\n",
       "        vertical-align: top;\n",
       "    }\n",
       "\n",
       "    .dataframe thead th {\n",
       "        text-align: right;\n",
       "    }\n",
       "</style>\n",
       "<table border=\"1\" class=\"dataframe\">\n",
       "  <thead>\n",
       "    <tr style=\"text-align: right;\">\n",
       "      <th></th>\n",
       "      <th>author</th>\n",
       "      <th>created_at</th>\n",
       "      <th>text</th>\n",
       "      <th>source</th>\n",
       "      <th>coord</th>\n",
       "      <th>geo</th>\n",
       "      <th>lang</th>\n",
       "      <th>fav_cnt</th>\n",
       "      <th>rt_cnt</th>\n",
       "    </tr>\n",
       "  </thead>\n",
       "  <tbody>\n",
       "    <tr>\n",
       "      <th>0</th>\n",
       "      <td>sama</td>\n",
       "      <td>Fri 2023-04-14 23:48:08</td>\n",
       "      <td>@WSJ 🤣</td>\n",
       "      <td>Twitter for iPhone</td>\n",
       "      <td>None</td>\n",
       "      <td>None</td>\n",
       "      <td>qme</td>\n",
       "      <td>4984.0</td>\n",
       "      <td>128.0</td>\n",
       "    </tr>\n",
       "    <tr>\n",
       "      <th>1</th>\n",
       "      <td>sama</td>\n",
       "      <td>Fri 2023-04-14 23:47:30</td>\n",
       "      <td>@WSJ Concerning</td>\n",
       "      <td>Twitter for iPhone</td>\n",
       "      <td>None</td>\n",
       "      <td>None</td>\n",
       "      <td>en</td>\n",
       "      <td>12179.0</td>\n",
       "      <td>579.0</td>\n",
       "    </tr>\n",
       "    <tr>\n",
       "      <th>2</th>\n",
       "      <td>sama</td>\n",
       "      <td>Sun 2023-04-09 01:41:27</td>\n",
       "      <td>the new podcast from @jesslivingston and @cjon...</td>\n",
       "      <td>Twitter for Mac</td>\n",
       "      <td>None</td>\n",
       "      <td>None</td>\n",
       "      <td>en</td>\n",
       "      <td>655.0</td>\n",
       "      <td>54.0</td>\n",
       "    </tr>\n",
       "  </tbody>\n",
       "</table>\n",
       "</div>"
      ],
      "text/plain": [
       "  author               created_at  \\\n",
       "0   sama  Fri 2023-04-14 23:48:08   \n",
       "1   sama  Fri 2023-04-14 23:47:30   \n",
       "2   sama  Sun 2023-04-09 01:41:27   \n",
       "\n",
       "                                                text              source  \\\n",
       "0                                             @WSJ 🤣  Twitter for iPhone   \n",
       "1                                    @WSJ Concerning  Twitter for iPhone   \n",
       "2  the new podcast from @jesslivingston and @cjon...     Twitter for Mac   \n",
       "\n",
       "  coord   geo lang  fav_cnt  rt_cnt  \n",
       "0  None  None  qme   4984.0   128.0  \n",
       "1  None  None   en  12179.0   579.0  \n",
       "2  None  None   en    655.0    54.0  "
      ]
     },
     "execution_count": 5,
     "metadata": {},
     "output_type": "execute_result"
    }
   ],
   "source": [
    "tweets_df.head(3)"
   ]
  },
  {
   "cell_type": "code",
   "execution_count": 6,
   "id": "74a247e4",
   "metadata": {},
   "outputs": [],
   "source": [
    "created_dates = tweets_df['created_at'].to_list()\n",
    "texts = tweets_df['text'].to_list()"
   ]
  },
  {
   "cell_type": "code",
   "execution_count": 7,
   "id": "77f0e147",
   "metadata": {},
   "outputs": [
    {
     "data": {
      "text/plain": [
       "'the new podcast from @jesslivingston and @cjoneslevy is great: https://t.co/5gk877x2Yb'"
      ]
     },
     "execution_count": 7,
     "metadata": {},
     "output_type": "execute_result"
    }
   ],
   "source": [
    "texts[2]"
   ]
  },
  {
   "cell_type": "markdown",
   "id": "7f349b3f",
   "metadata": {},
   "source": [
    "## Cleaner"
   ]
  },
  {
   "cell_type": "code",
   "execution_count": 8,
   "id": "f9283fb5",
   "metadata": {},
   "outputs": [],
   "source": [
    "def clean(text):\n",
    "    cleaned_text = re.sub(r'https?:\\/\\/.*[\\r\\n]*', '', text, flags=re.MULTILINE)\n",
    "    # cleaned_text = re.sub(r\"http\\S+?\", \"\", text)\n",
    "    cleaned_text = re.sub(r'@\\w+', '', cleaned_text).strip()\n",
    "    return cleaned_text"
   ]
  },
  {
   "cell_type": "code",
   "execution_count": 9,
   "id": "513a77dc",
   "metadata": {},
   "outputs": [
    {
     "data": {
      "text/plain": [
       "'the new podcast from  and  is great:'"
      ]
     },
     "execution_count": 9,
     "metadata": {},
     "output_type": "execute_result"
    }
   ],
   "source": [
    "clean(texts[2])"
   ]
  },
  {
   "cell_type": "code",
   "execution_count": 10,
   "id": "8876223b",
   "metadata": {},
   "outputs": [],
   "source": [
    "cleaned_texts = []\n",
    "\n",
    "for txt in texts:\n",
    "    if txt:\n",
    "        clean_txt = clean(txt)\n",
    "        if len(clean_txt.split()) < 10:\n",
    "            continue\n",
    "        if clean_txt == 'None':\n",
    "            continue\n",
    "        elif clean_txt and txt.startswith('RT'):\n",
    "            continue\n",
    "        else:\n",
    "            cleaned_texts.append(clean_txt)\n",
    "            # print(clean_txt)"
   ]
  },
  {
   "cell_type": "code",
   "execution_count": 11,
   "id": "b8bf4aa9",
   "metadata": {},
   "outputs": [
    {
     "data": {
      "text/plain": [
       "122"
      ]
     },
     "execution_count": 11,
     "metadata": {},
     "output_type": "execute_result"
    }
   ],
   "source": [
    "len(cleaned_texts)"
   ]
  },
  {
   "cell_type": "code",
   "execution_count": 12,
   "id": "dc7da534",
   "metadata": {},
   "outputs": [
    {
     "data": {
      "text/plain": [
       "'ok i admit it feels very cool to read the first part of this:'"
      ]
     },
     "execution_count": 12,
     "metadata": {},
     "output_type": "execute_result"
    }
   ],
   "source": [
    "cleaned_texts[10]"
   ]
  },
  {
   "cell_type": "code",
   "execution_count": 14,
   "id": "39ed49e7",
   "metadata": {},
   "outputs": [],
   "source": [
    "df = pd.DataFrame(data={\"tweet\": cleaned_texts})"
   ]
  },
  {
   "cell_type": "code",
   "execution_count": 15,
   "id": "ca9c95ef",
   "metadata": {},
   "outputs": [],
   "source": [
    "out_fn = '../data/cleaned_sama_tweets.csv'\n",
    "\n",
    "df.to_csv(out_fn, sep=',', index=False)"
   ]
  },
  {
   "cell_type": "code",
   "execution_count": null,
   "id": "972cb8da",
   "metadata": {},
   "outputs": [],
   "source": []
  }
 ],
 "metadata": {
  "kernelspec": {
   "display_name": "Python [conda env:hercule] *",
   "language": "python",
   "name": "conda-env-hercule-py"
  },
  "language_info": {
   "codemirror_mode": {
    "name": "ipython",
    "version": 3
   },
   "file_extension": ".py",
   "mimetype": "text/x-python",
   "name": "python",
   "nbconvert_exporter": "python",
   "pygments_lexer": "ipython3",
   "version": "3.7.13"
  }
 },
 "nbformat": 4,
 "nbformat_minor": 5
}
